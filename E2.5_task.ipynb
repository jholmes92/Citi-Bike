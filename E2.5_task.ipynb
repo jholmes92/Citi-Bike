{
 "cells": [
  {
   "cell_type": "markdown",
   "id": "7623247f-e7cc-4061-829f-ac6bd0c5f551",
   "metadata": {},
   "source": [
    "# Exercise 2.5 | Task\n",
    "\n",
    "##### 1. Import Library and Dataset\n",
    "##### 2. Creation of aggregated dataframe\n",
    "##### 3. Initializing instance of kepler.gl map"
   ]
  },
  {
   "cell_type": "markdown",
   "id": "1d9ec223-d46a-4535-ae14-315786fcf916",
   "metadata": {},
   "source": [
    "##### 1. Import Library and Dataset"
   ]
  },
  {
   "cell_type": "code",
   "execution_count": 1,
   "id": "f3b6193b-6caa-49ba-ad0b-49f1773d5f4c",
   "metadata": {
    "tags": []
   },
   "outputs": [],
   "source": [
    "import pandas as pd\n",
    "import os\n",
    "from keplergl import KeplerGl\n",
    "from pyproj import CRS\n",
    "import numpy as np\n",
    "from matplotlib import pyplot as plt"
   ]
  },
  {
   "cell_type": "code",
   "execution_count": 2,
   "id": "274da5af-00db-4fc1-bac9-a4f7520d93ee",
   "metadata": {
    "tags": []
   },
   "outputs": [
    {
     "name": "stderr",
     "output_type": "stream",
     "text": [
      "C:\\Users\\repla\\AppData\\Local\\Temp\\ipykernel_49392\\1723540456.py:1: DtypeWarning: Columns (6) have mixed types. Specify dtype option on import or set low_memory=False.\n",
      "  df = pd.read_csv('newyork_data_sample.csv', index_col = 0)\n"
     ]
    }
   ],
   "source": [
    "df = pd.read_csv('newyork_data_sample.csv', index_col = 0)"
   ]
  },
  {
   "cell_type": "code",
   "execution_count": 3,
   "id": "daa6d2a3-2669-46f8-a916-8e73c41e7bbb",
   "metadata": {
    "tags": []
   },
   "outputs": [
    {
     "data": {
      "text/plain": [
       "ride_id                object\n",
       "rideable_type          object\n",
       "started_at             object\n",
       "ended_at               object\n",
       "start_station_name     object\n",
       "start_station_id       object\n",
       "end_station_name       object\n",
       "end_station_id         object\n",
       "start_lat             float64\n",
       "start_lng             float64\n",
       "end_lat               float64\n",
       "end_lng               float64\n",
       "member_casual          object\n",
       "avgTemp               float64\n",
       "bike_rides_daily        int64\n",
       "_merge                 object\n",
       "dtype: object"
      ]
     },
     "execution_count": 3,
     "metadata": {},
     "output_type": "execute_result"
    }
   ],
   "source": [
    "df.dtypes"
   ]
  },
  {
   "cell_type": "markdown",
   "id": "44ec3582-94b5-4606-a09b-f123c110f3cc",
   "metadata": {},
   "source": [
    "##### 2. Creation of aggregated dataframe"
   ]
  },
  {
   "cell_type": "code",
   "execution_count": 4,
   "id": "b540a412-2c0a-4b10-b8d5-38a40d7e123b",
   "metadata": {
    "tags": []
   },
   "outputs": [],
   "source": [
    "# Create a new column with the value of 1\n",
    "df['trip_count'] = 1"
   ]
  },
  {
   "cell_type": "code",
   "execution_count": 5,
   "id": "6360a1db-51fe-4f71-840f-2758bbb38ef2",
   "metadata": {
    "tags": []
   },
   "outputs": [
    {
     "data": {
      "text/html": [
       "<div>\n",
       "<style scoped>\n",
       "    .dataframe tbody tr th:only-of-type {\n",
       "        vertical-align: middle;\n",
       "    }\n",
       "\n",
       "    .dataframe tbody tr th {\n",
       "        vertical-align: top;\n",
       "    }\n",
       "\n",
       "    .dataframe thead th {\n",
       "        text-align: right;\n",
       "    }\n",
       "</style>\n",
       "<table border=\"1\" class=\"dataframe\">\n",
       "  <thead>\n",
       "    <tr style=\"text-align: right;\">\n",
       "      <th></th>\n",
       "      <th>start_station_name</th>\n",
       "      <th>end_station_name</th>\n",
       "      <th>trip_count</th>\n",
       "    </tr>\n",
       "  </thead>\n",
       "  <tbody>\n",
       "    <tr>\n",
       "      <th>0</th>\n",
       "      <td>1 Ave &amp; E 110 St</td>\n",
       "      <td>1 Ave &amp; E 110 St</td>\n",
       "      <td>27</td>\n",
       "    </tr>\n",
       "    <tr>\n",
       "      <th>1</th>\n",
       "      <td>1 Ave &amp; E 110 St</td>\n",
       "      <td>1 Ave &amp; E 44 St</td>\n",
       "      <td>1</td>\n",
       "    </tr>\n",
       "    <tr>\n",
       "      <th>2</th>\n",
       "      <td>1 Ave &amp; E 110 St</td>\n",
       "      <td>1 Ave &amp; E 62 St</td>\n",
       "      <td>1</td>\n",
       "    </tr>\n",
       "    <tr>\n",
       "      <th>3</th>\n",
       "      <td>1 Ave &amp; E 110 St</td>\n",
       "      <td>1 Ave &amp; E 68 St</td>\n",
       "      <td>2</td>\n",
       "    </tr>\n",
       "    <tr>\n",
       "      <th>4</th>\n",
       "      <td>1 Ave &amp; E 110 St</td>\n",
       "      <td>1 Ave &amp; E 78 St</td>\n",
       "      <td>1</td>\n",
       "    </tr>\n",
       "  </tbody>\n",
       "</table>\n",
       "</div>"
      ],
      "text/plain": [
       "  start_station_name  end_station_name  trip_count\n",
       "0   1 Ave & E 110 St  1 Ave & E 110 St          27\n",
       "1   1 Ave & E 110 St   1 Ave & E 44 St           1\n",
       "2   1 Ave & E 110 St   1 Ave & E 62 St           1\n",
       "3   1 Ave & E 110 St   1 Ave & E 68 St           2\n",
       "4   1 Ave & E 110 St   1 Ave & E 78 St           1"
      ]
     },
     "execution_count": 5,
     "metadata": {},
     "output_type": "execute_result"
    }
   ],
   "source": [
    "# Aggregate the DataFrame to count trips between starting and ending stations\n",
    "aggregated_df = df.groupby(['start_station_name', 'end_station_name']).agg({'trip_count': 'sum'}).reset_index()\n",
    "\n",
    "# Display the aggregated DataFrame\n",
    "aggregated_df.head()"
   ]
  },
  {
   "cell_type": "code",
   "execution_count": 6,
   "id": "817d171f-e39a-4e23-90ba-2c485d0c1c0c",
   "metadata": {
    "tags": []
   },
   "outputs": [
    {
     "data": {
      "text/html": [
       "<div>\n",
       "<style scoped>\n",
       "    .dataframe tbody tr th:only-of-type {\n",
       "        vertical-align: middle;\n",
       "    }\n",
       "\n",
       "    .dataframe tbody tr th {\n",
       "        vertical-align: top;\n",
       "    }\n",
       "\n",
       "    .dataframe thead th {\n",
       "        text-align: right;\n",
       "    }\n",
       "</style>\n",
       "<table border=\"1\" class=\"dataframe\">\n",
       "  <thead>\n",
       "    <tr style=\"text-align: right;\">\n",
       "      <th></th>\n",
       "      <th>start_station_name</th>\n",
       "      <th>end_station_name</th>\n",
       "      <th>trips</th>\n",
       "    </tr>\n",
       "  </thead>\n",
       "  <tbody>\n",
       "    <tr>\n",
       "      <th>0</th>\n",
       "      <td>1 Ave &amp; E 110 St</td>\n",
       "      <td>1 Ave &amp; E 110 St</td>\n",
       "      <td>27</td>\n",
       "    </tr>\n",
       "    <tr>\n",
       "      <th>1</th>\n",
       "      <td>1 Ave &amp; E 110 St</td>\n",
       "      <td>1 Ave &amp; E 44 St</td>\n",
       "      <td>1</td>\n",
       "    </tr>\n",
       "    <tr>\n",
       "      <th>2</th>\n",
       "      <td>1 Ave &amp; E 110 St</td>\n",
       "      <td>1 Ave &amp; E 62 St</td>\n",
       "      <td>1</td>\n",
       "    </tr>\n",
       "    <tr>\n",
       "      <th>3</th>\n",
       "      <td>1 Ave &amp; E 110 St</td>\n",
       "      <td>1 Ave &amp; E 68 St</td>\n",
       "      <td>2</td>\n",
       "    </tr>\n",
       "    <tr>\n",
       "      <th>4</th>\n",
       "      <td>1 Ave &amp; E 110 St</td>\n",
       "      <td>1 Ave &amp; E 78 St</td>\n",
       "      <td>1</td>\n",
       "    </tr>\n",
       "  </tbody>\n",
       "</table>\n",
       "</div>"
      ],
      "text/plain": [
       "  start_station_name  end_station_name  trips\n",
       "0   1 Ave & E 110 St  1 Ave & E 110 St     27\n",
       "1   1 Ave & E 110 St   1 Ave & E 44 St      1\n",
       "2   1 Ave & E 110 St   1 Ave & E 62 St      1\n",
       "3   1 Ave & E 110 St   1 Ave & E 68 St      2\n",
       "4   1 Ave & E 110 St   1 Ave & E 78 St      1"
      ]
     },
     "execution_count": 6,
     "metadata": {},
     "output_type": "execute_result"
    }
   ],
   "source": [
    "# Rename the 'trip_count' column to 'trips'\n",
    "aggregated_df = aggregated_df.rename(columns={'trip_count': 'trips'})\n",
    "\n",
    "# Display the updated DataFrame\n",
    "aggregated_df.head()"
   ]
  },
  {
   "cell_type": "code",
   "execution_count": 7,
   "id": "1593a102-e597-415c-b842-d82545b7fbf0",
   "metadata": {
    "tags": []
   },
   "outputs": [
    {
     "name": "stdout",
     "output_type": "stream",
     "text": [
      "Index(['ride_id', 'rideable_type', 'started_at', 'ended_at',\n",
      "       'start_station_name', 'start_station_id', 'end_station_name',\n",
      "       'end_station_id', 'start_lat', 'start_lng', 'end_lat', 'end_lng',\n",
      "       'member_casual', 'avgTemp', 'bike_rides_daily', '_merge', 'trip_count'],\n",
      "      dtype='object')\n"
     ]
    }
   ],
   "source": [
    "print(df.columns)"
   ]
  },
  {
   "cell_type": "code",
   "execution_count": 8,
   "id": "eb62cc01-f114-498a-a692-c2f4e9f66f23",
   "metadata": {
    "tags": []
   },
   "outputs": [],
   "source": [
    "agg_df = df.groupby(['start_station_name', 'end_station_name']).agg({\n",
    "    'start_lat': 'first',\n",
    "    'start_lng': 'first',\n",
    "    'end_lat': 'first',\n",
    "    'end_lng': 'first',\n",
    "    'ride_id': 'count'\n",
    "}).reset_index()\n",
    "\n",
    "# Rename columns\n",
    "agg_df = agg_df.rename(columns={\n",
    "    'start_lat': 'Latitude_x',\n",
    "    'start_lng': 'Longitude_x',\n",
    "    'end_lat': 'Latitude_y',\n",
    "    'end_lng': 'Longitude_y',\n",
    "    'ride_id': 'trips'\n",
    "})"
   ]
  },
  {
   "cell_type": "code",
   "execution_count": 9,
   "id": "a1e34ff4-dfc9-4b0f-95da-bd391530ac44",
   "metadata": {
    "tags": []
   },
   "outputs": [
    {
     "data": {
      "text/html": [
       "<div>\n",
       "<style scoped>\n",
       "    .dataframe tbody tr th:only-of-type {\n",
       "        vertical-align: middle;\n",
       "    }\n",
       "\n",
       "    .dataframe tbody tr th {\n",
       "        vertical-align: top;\n",
       "    }\n",
       "\n",
       "    .dataframe thead th {\n",
       "        text-align: right;\n",
       "    }\n",
       "</style>\n",
       "<table border=\"1\" class=\"dataframe\">\n",
       "  <thead>\n",
       "    <tr style=\"text-align: right;\">\n",
       "      <th></th>\n",
       "      <th>start_station_name</th>\n",
       "      <th>end_station_name</th>\n",
       "      <th>Latitude_x</th>\n",
       "      <th>Longitude_x</th>\n",
       "      <th>Latitude_y</th>\n",
       "      <th>Longitude_y</th>\n",
       "      <th>trips</th>\n",
       "    </tr>\n",
       "  </thead>\n",
       "  <tbody>\n",
       "    <tr>\n",
       "      <th>0</th>\n",
       "      <td>1 Ave &amp; E 110 St</td>\n",
       "      <td>1 Ave &amp; E 110 St</td>\n",
       "      <td>40.792310</td>\n",
       "      <td>-73.938156</td>\n",
       "      <td>40.792327</td>\n",
       "      <td>-73.938300</td>\n",
       "      <td>27</td>\n",
       "    </tr>\n",
       "    <tr>\n",
       "      <th>1</th>\n",
       "      <td>1 Ave &amp; E 110 St</td>\n",
       "      <td>1 Ave &amp; E 44 St</td>\n",
       "      <td>40.792327</td>\n",
       "      <td>-73.938300</td>\n",
       "      <td>40.750020</td>\n",
       "      <td>-73.969053</td>\n",
       "      <td>1</td>\n",
       "    </tr>\n",
       "    <tr>\n",
       "      <th>2</th>\n",
       "      <td>1 Ave &amp; E 110 St</td>\n",
       "      <td>1 Ave &amp; E 62 St</td>\n",
       "      <td>40.792327</td>\n",
       "      <td>-73.938300</td>\n",
       "      <td>40.761227</td>\n",
       "      <td>-73.960940</td>\n",
       "      <td>1</td>\n",
       "    </tr>\n",
       "    <tr>\n",
       "      <th>3</th>\n",
       "      <td>1 Ave &amp; E 110 St</td>\n",
       "      <td>1 Ave &amp; E 68 St</td>\n",
       "      <td>40.792327</td>\n",
       "      <td>-73.938300</td>\n",
       "      <td>40.765005</td>\n",
       "      <td>-73.958185</td>\n",
       "      <td>2</td>\n",
       "    </tr>\n",
       "    <tr>\n",
       "      <th>4</th>\n",
       "      <td>1 Ave &amp; E 110 St</td>\n",
       "      <td>1 Ave &amp; E 78 St</td>\n",
       "      <td>40.792327</td>\n",
       "      <td>-73.938300</td>\n",
       "      <td>40.771404</td>\n",
       "      <td>-73.953517</td>\n",
       "      <td>1</td>\n",
       "    </tr>\n",
       "  </tbody>\n",
       "</table>\n",
       "</div>"
      ],
      "text/plain": [
       "  start_station_name  end_station_name  Latitude_x  Longitude_x  Latitude_y  \\\n",
       "0   1 Ave & E 110 St  1 Ave & E 110 St   40.792310   -73.938156   40.792327   \n",
       "1   1 Ave & E 110 St   1 Ave & E 44 St   40.792327   -73.938300   40.750020   \n",
       "2   1 Ave & E 110 St   1 Ave & E 62 St   40.792327   -73.938300   40.761227   \n",
       "3   1 Ave & E 110 St   1 Ave & E 68 St   40.792327   -73.938300   40.765005   \n",
       "4   1 Ave & E 110 St   1 Ave & E 78 St   40.792327   -73.938300   40.771404   \n",
       "\n",
       "   Longitude_y  trips  \n",
       "0   -73.938300     27  \n",
       "1   -73.969053      1  \n",
       "2   -73.960940      1  \n",
       "3   -73.958185      2  \n",
       "4   -73.953517      1  "
      ]
     },
     "execution_count": 9,
     "metadata": {},
     "output_type": "execute_result"
    }
   ],
   "source": [
    "agg_df.head()"
   ]
  },
  {
   "cell_type": "code",
   "execution_count": 10,
   "id": "c05cc77f-4a03-4e5e-8eba-391ec9f18963",
   "metadata": {
    "tags": []
   },
   "outputs": [],
   "source": [
    "agg_df = agg_df[['start_station_name', 'end_station_name', 'trips', 'Latitude_x', 'Longitude_x', 'Latitude_y', 'Longitude_y']]"
   ]
  },
  {
   "cell_type": "code",
   "execution_count": 11,
   "id": "2521ab51-3926-4791-b1ed-5b80a488332a",
   "metadata": {
    "tags": []
   },
   "outputs": [
    {
     "data": {
      "text/html": [
       "<div>\n",
       "<style scoped>\n",
       "    .dataframe tbody tr th:only-of-type {\n",
       "        vertical-align: middle;\n",
       "    }\n",
       "\n",
       "    .dataframe tbody tr th {\n",
       "        vertical-align: top;\n",
       "    }\n",
       "\n",
       "    .dataframe thead th {\n",
       "        text-align: right;\n",
       "    }\n",
       "</style>\n",
       "<table border=\"1\" class=\"dataframe\">\n",
       "  <thead>\n",
       "    <tr style=\"text-align: right;\">\n",
       "      <th></th>\n",
       "      <th>start_station_name</th>\n",
       "      <th>end_station_name</th>\n",
       "      <th>trips</th>\n",
       "      <th>Latitude_x</th>\n",
       "      <th>Longitude_x</th>\n",
       "      <th>Latitude_y</th>\n",
       "      <th>Longitude_y</th>\n",
       "    </tr>\n",
       "  </thead>\n",
       "  <tbody>\n",
       "    <tr>\n",
       "      <th>0</th>\n",
       "      <td>1 Ave &amp; E 110 St</td>\n",
       "      <td>1 Ave &amp; E 110 St</td>\n",
       "      <td>27</td>\n",
       "      <td>40.792310</td>\n",
       "      <td>-73.938156</td>\n",
       "      <td>40.792327</td>\n",
       "      <td>-73.938300</td>\n",
       "    </tr>\n",
       "    <tr>\n",
       "      <th>1</th>\n",
       "      <td>1 Ave &amp; E 110 St</td>\n",
       "      <td>1 Ave &amp; E 44 St</td>\n",
       "      <td>1</td>\n",
       "      <td>40.792327</td>\n",
       "      <td>-73.938300</td>\n",
       "      <td>40.750020</td>\n",
       "      <td>-73.969053</td>\n",
       "    </tr>\n",
       "    <tr>\n",
       "      <th>2</th>\n",
       "      <td>1 Ave &amp; E 110 St</td>\n",
       "      <td>1 Ave &amp; E 62 St</td>\n",
       "      <td>1</td>\n",
       "      <td>40.792327</td>\n",
       "      <td>-73.938300</td>\n",
       "      <td>40.761227</td>\n",
       "      <td>-73.960940</td>\n",
       "    </tr>\n",
       "    <tr>\n",
       "      <th>3</th>\n",
       "      <td>1 Ave &amp; E 110 St</td>\n",
       "      <td>1 Ave &amp; E 68 St</td>\n",
       "      <td>2</td>\n",
       "      <td>40.792327</td>\n",
       "      <td>-73.938300</td>\n",
       "      <td>40.765005</td>\n",
       "      <td>-73.958185</td>\n",
       "    </tr>\n",
       "    <tr>\n",
       "      <th>4</th>\n",
       "      <td>1 Ave &amp; E 110 St</td>\n",
       "      <td>1 Ave &amp; E 78 St</td>\n",
       "      <td>1</td>\n",
       "      <td>40.792327</td>\n",
       "      <td>-73.938300</td>\n",
       "      <td>40.771404</td>\n",
       "      <td>-73.953517</td>\n",
       "    </tr>\n",
       "  </tbody>\n",
       "</table>\n",
       "</div>"
      ],
      "text/plain": [
       "  start_station_name  end_station_name  trips  Latitude_x  Longitude_x  \\\n",
       "0   1 Ave & E 110 St  1 Ave & E 110 St     27   40.792310   -73.938156   \n",
       "1   1 Ave & E 110 St   1 Ave & E 44 St      1   40.792327   -73.938300   \n",
       "2   1 Ave & E 110 St   1 Ave & E 62 St      1   40.792327   -73.938300   \n",
       "3   1 Ave & E 110 St   1 Ave & E 68 St      2   40.792327   -73.938300   \n",
       "4   1 Ave & E 110 St   1 Ave & E 78 St      1   40.792327   -73.938300   \n",
       "\n",
       "   Latitude_y  Longitude_y  \n",
       "0   40.792327   -73.938300  \n",
       "1   40.750020   -73.969053  \n",
       "2   40.761227   -73.960940  \n",
       "3   40.765005   -73.958185  \n",
       "4   40.771404   -73.953517  "
      ]
     },
     "execution_count": 11,
     "metadata": {},
     "output_type": "execute_result"
    }
   ],
   "source": [
    "agg_df.head()"
   ]
  },
  {
   "cell_type": "code",
   "execution_count": 12,
   "id": "a7a6afc7-168d-43e7-84b6-84c50204f21a",
   "metadata": {
    "tags": []
   },
   "outputs": [
    {
     "name": "stdout",
     "output_type": "stream",
     "text": [
      "Latitude_x Range: 40.633357763 40.882278085\n",
      "Longitude_x Range: -74.0836394 -73.881396294\n",
      "Latitude_y Range: 40.633385 40.88226\n",
      "Longitude_y Range: -74.0836394 -73.88145\n"
     ]
    }
   ],
   "source": [
    "print(\"Latitude_x Range:\", agg_df['Latitude_x'].min(), agg_df['Latitude_x'].max())\n",
    "print(\"Longitude_x Range:\", agg_df['Longitude_x'].min(), agg_df['Longitude_x'].max())\n",
    "print(\"Latitude_y Range:\", agg_df['Latitude_y'].min(), agg_df['Latitude_y'].max())\n",
    "print(\"Longitude_y Range:\", agg_df['Longitude_y'].min(), agg_df['Longitude_y'].max())"
   ]
  },
  {
   "cell_type": "markdown",
   "id": "5ecbfdf4-41c2-4cb4-829e-0108b9b11c3b",
   "metadata": {
    "tags": []
   },
   "source": [
    "##### 3. Initializing instance of kepler.gl map"
   ]
  },
  {
   "cell_type": "code",
   "execution_count": 13,
   "id": "eacdc619-832f-446a-b5c3-7cc39a94d348",
   "metadata": {
    "tags": []
   },
   "outputs": [],
   "source": [
    "import json"
   ]
  },
  {
   "cell_type": "code",
   "execution_count": 15,
   "id": "f82f41f5-f9d9-4b43-ac72-1292685aae0b",
   "metadata": {},
   "outputs": [],
   "source": [
    "from keplergl import KeplerGl\n",
    "import geopandas as gpd"
   ]
  },
  {
   "cell_type": "code",
   "execution_count": 16,
   "id": "4cc063bf-68a3-4f02-b5ac-571cb4f0ed45",
   "metadata": {
    "tags": []
   },
   "outputs": [
    {
     "name": "stdout",
     "output_type": "stream",
     "text": [
      "User Guide: https://docs.kepler.gl/docs/keplergl-jupyter\n"
     ]
    }
   ],
   "source": [
    "# Initialize Kepler.gl map instance\n",
    "map_instance = KeplerGl(height=600,width=800)\n",
    "\n",
    "gdf=gpd.GeoDataFrame(agg_df,geometry=gpd.points_from_xy(agg_df.Longitude_x,agg_df.Latitude_x))\n",
    "map_instance.add_data(data=gdf,name=\"Newyork Data Sample\")"
   ]
  },
  {
   "cell_type": "code",
   "execution_count": 17,
   "id": "7aad82bd-52f3-4dc0-861e-b920d49b9766",
   "metadata": {
    "tags": []
   },
   "outputs": [],
   "source": [
    "# Customizing output of map: once I figured out how to add the layers, and have them correlate correctly to one another, it was easy to create them, and dudplicate as\n",
    "# need be. I picked colours that compliment one another and can be easily distingued. Also, in the 'start' and 'end' point layers, I reduced the radius, as the small size of NYC, \n",
    "# plus the sheer volume of instances was basically blocking out the map completely (unless you zoom in quite close)\n",
    "# In the 'start-end arc', and 'start-end point' layers, I applied the same color plan.. have them be clearly distinguishable against one another. Also, I've reduced the 'stroke'\n",
    "# setting to just '0.5', as there are so many trips, I wanted to be able to see them without the entire map being coloured out.\n"
   ]
  },
  {
   "cell_type": "code",
   "execution_count": 21,
   "id": "d3064d41-9068-4825-ba48-ca53ac7e43cc",
   "metadata": {
    "tags": []
   },
   "outputs": [],
   "source": [
    "# Filters -  Most common trips in NYC: The 3 most common trips are not in a similar area, which I find interesing. One is right beside the bridge that crosses from New Jersey\n",
    "# over to NYC called 'Pier 40', another in the Lower East Side, and the last is up in Chelsea. \n",
    "\n",
    "# The Pier 40 in Hudson River Park is a popular spot for various recreational activities such as sports, outdoor events, and leisurely walks along the waterfront.\n",
    "\n",
    "# Lower East side location - The areas around Norfolk St & Broome St and Henry St & Grand St in Lower Manhattan are bustling due to a combination of residential density, \n",
    "# shopping and dining options, cultural attractions, proximity to transportation hubs, and frequent events and activities. \n",
    "# These factors contribute to a vibrant atmosphere with a constant flow of people, both locals and tourists.\n",
    "\n",
    "# Chelsea - The area around W 22nd St & 8th Ave and W 22nd St & 10th Ave in Chelsea, New York City, is busy due to attractions like the High Line Park, \n",
    "# Chelsea Market, art galleries, luxury residential buildings, restaurants, bars, and shopping options, making it a popular destination for locals and tourists alike. "
   ]
  },
  {
   "cell_type": "code",
   "execution_count": 22,
   "id": "39a5381e-eb5c-4f91-bd2e-1f68790ed3e6",
   "metadata": {
    "tags": []
   },
   "outputs": [],
   "source": [
    "import json\n",
    "with open(\"config.json\", \"w\") as outfile:\n",
    "    json.dump(config, outfile)"
   ]
  },
  {
   "cell_type": "code",
   "execution_count": null,
   "id": "622cdad7-9b89-4545-8cf4-a1865cd5fc2a",
   "metadata": {},
   "outputs": [],
   "source": []
  }
 ],
 "metadata": {
  "kernelspec": {
   "display_name": "Python [conda env:Citi-Bike]",
   "language": "python",
   "name": "conda-env-Citi-Bike-py"
  },
  "language_info": {
   "codemirror_mode": {
    "name": "ipython",
    "version": 3
   },
   "file_extension": ".py",
   "mimetype": "text/x-python",
   "name": "python",
   "nbconvert_exporter": "python",
   "pygments_lexer": "ipython3",
   "version": "3.11.8"
  }
 },
 "nbformat": 4,
 "nbformat_minor": 5
}
