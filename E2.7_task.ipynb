{
 "cells": [
  {
   "cell_type": "markdown",
   "id": "ad6c7e68-ab2b-4845-831c-672405a1eb6c",
   "metadata": {},
   "source": [
    "# Exercise 2.7 | Refining and Presenting a Dashboard\n",
    "\n",
    "##### 1. Import Libraries\n",
    "##### 2. Upload dataset\n",
    "##### 3. Create sample of data\n",
    "##### 4. Create weekly dataset to use"
   ]
  },
  {
   "cell_type": "markdown",
   "id": "369218d3-a4f2-486b-8c13-8f799ada7fdf",
   "metadata": {},
   "source": [
    "##### 1. Import Libraries"
   ]
  },
  {
   "cell_type": "code",
   "execution_count": 1,
   "id": "f003f77b-ee49-4a58-a91d-3c0757d5a307",
   "metadata": {
    "tags": []
   },
   "outputs": [],
   "source": [
    "import streamlit as st\n",
    "import pandas as pd\n",
    "import numpy as np\n",
    "import plotly.express as px\n",
    "from plotly.subplots import make_subplots\n",
    "import plotly.graph_objects as go\n",
    "import matplotlib.pyplot as plt\n",
    "from datetime import datetime as dt\n",
    "from streamlit_keplergl import keplergl_static"
   ]
  },
  {
   "cell_type": "markdown",
   "id": "d5ce2d63-6091-444c-b7ba-e59bf6fd8b66",
   "metadata": {},
   "source": [
    "##### 2. Upload dataset"
   ]
  },
  {
   "cell_type": "code",
   "execution_count": 2,
   "id": "c999153f-411c-4619-8697-3048d956da39",
   "metadata": {
    "collapsed": true,
    "jupyter": {
     "outputs_hidden": true
    },
    "tags": []
   },
   "outputs": [
    {
     "name": "stderr",
     "output_type": "stream",
     "text": [
      "C:\\Users\\repla\\AppData\\Local\\Temp\\ipykernel_26208\\1723540456.py:1: DtypeWarning: Columns (7) have mixed types. Specify dtype option on import or set low_memory=False.\n",
      "  df = pd.read_csv('newyork_data_sample.csv', index_col = 0)\n"
     ]
    }
   ],
   "source": [
    "df = pd.read_csv('newyork_data_sample.csv', index_col = 0)"
   ]
  },
  {
   "cell_type": "markdown",
   "id": "e9086934-0f48-4858-b34b-c57d47d4ae68",
   "metadata": {},
   "source": [
    "##### 3. Create sample of data"
   ]
  },
  {
   "cell_type": "code",
   "execution_count": 3,
   "id": "f389bfbf-042f-4de0-a696-2b937dedc873",
   "metadata": {
    "tags": []
   },
   "outputs": [
    {
     "name": "stdout",
     "output_type": "stream",
     "text": [
      "12.30340576171875\n"
     ]
    }
   ],
   "source": [
    "# Set the seed to 32\n",
    "np.random.seed(32)\n",
    "\n",
    "# Create a random sample of the main \"df\"\n",
    "sample_df = df.sample(frac=0.1, random_state=32)\n",
    "\n",
    "# Check the size of the sample\n",
    "print(sample_df.memory_usage().sum() / 1024 ** 2)"
   ]
  },
  {
   "cell_type": "code",
   "execution_count": 4,
   "id": "950a3741-f486-41f1-9132-e615564148e3",
   "metadata": {
    "tags": []
   },
   "outputs": [
    {
     "data": {
      "text/html": [
       "<div>\n",
       "<style scoped>\n",
       "    .dataframe tbody tr th:only-of-type {\n",
       "        vertical-align: middle;\n",
       "    }\n",
       "\n",
       "    .dataframe tbody tr th {\n",
       "        vertical-align: top;\n",
       "    }\n",
       "\n",
       "    .dataframe thead th {\n",
       "        text-align: right;\n",
       "    }\n",
       "</style>\n",
       "<table border=\"1\" class=\"dataframe\">\n",
       "  <thead>\n",
       "    <tr style=\"text-align: right;\">\n",
       "      <th></th>\n",
       "      <th>date</th>\n",
       "      <th>ride_id</th>\n",
       "      <th>rideable_type</th>\n",
       "      <th>started_at</th>\n",
       "      <th>ended_at</th>\n",
       "      <th>start_station_name</th>\n",
       "      <th>start_station_id</th>\n",
       "      <th>end_station_name</th>\n",
       "      <th>end_station_id</th>\n",
       "      <th>start_lat</th>\n",
       "      <th>start_lng</th>\n",
       "      <th>end_lat</th>\n",
       "      <th>end_lng</th>\n",
       "      <th>member_casual</th>\n",
       "      <th>avgTemp</th>\n",
       "      <th>bike_rides_daily</th>\n",
       "      <th>_merge</th>\n",
       "      <th>month</th>\n",
       "      <th>season</th>\n",
       "      <th>value</th>\n",
       "    </tr>\n",
       "  </thead>\n",
       "  <tbody>\n",
       "    <tr>\n",
       "      <th>724906</th>\n",
       "      <td>2022-03-07</td>\n",
       "      <td>B2C5CA69CD9D070C</td>\n",
       "      <td>electric_bike</td>\n",
       "      <td>2022-03-07 19:22:45</td>\n",
       "      <td>2022-03-07 19:33:44</td>\n",
       "      <td>1 Ave &amp; E 6 St</td>\n",
       "      <td>5626.15</td>\n",
       "      <td>E 44 St &amp; 2 Ave</td>\n",
       "      <td>6422.09</td>\n",
       "      <td>40.726331</td>\n",
       "      <td>-73.986169</td>\n",
       "      <td>40.751184</td>\n",
       "      <td>-73.971387</td>\n",
       "      <td>member</td>\n",
       "      <td>18.2</td>\n",
       "      <td>1740</td>\n",
       "      <td>both</td>\n",
       "      <td>3</td>\n",
       "      <td>winter</td>\n",
       "      <td>1</td>\n",
       "    </tr>\n",
       "    <tr>\n",
       "      <th>673888</th>\n",
       "      <td>2022-06-16</td>\n",
       "      <td>18E81D7488D72F1A</td>\n",
       "      <td>classic_bike</td>\n",
       "      <td>2022-06-16 18:46:27</td>\n",
       "      <td>2022-06-16 18:53:45</td>\n",
       "      <td>St Marks Pl &amp; 1 Ave</td>\n",
       "      <td>5626.13</td>\n",
       "      <td>Mercer St &amp; Bleecker St</td>\n",
       "      <td>5679.05</td>\n",
       "      <td>40.727791</td>\n",
       "      <td>-73.985649</td>\n",
       "      <td>40.727064</td>\n",
       "      <td>-73.996621</td>\n",
       "      <td>member</td>\n",
       "      <td>20.3</td>\n",
       "      <td>2601</td>\n",
       "      <td>both</td>\n",
       "      <td>6</td>\n",
       "      <td>summer</td>\n",
       "      <td>1</td>\n",
       "    </tr>\n",
       "    <tr>\n",
       "      <th>164452</th>\n",
       "      <td>2022-09-25</td>\n",
       "      <td>AF38D881323A4216</td>\n",
       "      <td>classic_bike</td>\n",
       "      <td>2022-09-25 15:27:16</td>\n",
       "      <td>2022-09-25 15:30:04</td>\n",
       "      <td>Broadway &amp; W 61 St</td>\n",
       "      <td>7014.12</td>\n",
       "      <td>Broadway &amp; W 61 St</td>\n",
       "      <td>7014.12</td>\n",
       "      <td>40.770030</td>\n",
       "      <td>-73.981968</td>\n",
       "      <td>40.770030</td>\n",
       "      <td>-73.981968</td>\n",
       "      <td>casual</td>\n",
       "      <td>19.2</td>\n",
       "      <td>2186</td>\n",
       "      <td>both</td>\n",
       "      <td>9</td>\n",
       "      <td>summer</td>\n",
       "      <td>1</td>\n",
       "    </tr>\n",
       "    <tr>\n",
       "      <th>417222</th>\n",
       "      <td>2022-05-12</td>\n",
       "      <td>EF580FFE11488B54</td>\n",
       "      <td>electric_bike</td>\n",
       "      <td>2022-05-12 15:23:18</td>\n",
       "      <td>2022-05-12 15:35:14</td>\n",
       "      <td>W 95 St &amp; Broadway</td>\n",
       "      <td>7541.01</td>\n",
       "      <td>W 64 St &amp; Thelonious Monk Circle</td>\n",
       "      <td>7123.04</td>\n",
       "      <td>40.793770</td>\n",
       "      <td>-73.971888</td>\n",
       "      <td>40.775160</td>\n",
       "      <td>-73.989187</td>\n",
       "      <td>member</td>\n",
       "      <td>17.1</td>\n",
       "      <td>2855</td>\n",
       "      <td>both</td>\n",
       "      <td>5</td>\n",
       "      <td>spring</td>\n",
       "      <td>1</td>\n",
       "    </tr>\n",
       "    <tr>\n",
       "      <th>543384</th>\n",
       "      <td>2022-11-05</td>\n",
       "      <td>60A00C040CFE7632</td>\n",
       "      <td>classic_bike</td>\n",
       "      <td>2022-11-05 14:40:46</td>\n",
       "      <td>2022-11-05 15:07:53</td>\n",
       "      <td>W 84 St &amp; Broadway</td>\n",
       "      <td>7409.08</td>\n",
       "      <td>E 53 St &amp; Madison Ave</td>\n",
       "      <td>6659.03</td>\n",
       "      <td>40.786795</td>\n",
       "      <td>-73.977112</td>\n",
       "      <td>40.759711</td>\n",
       "      <td>-73.974023</td>\n",
       "      <td>member</td>\n",
       "      <td>19.4</td>\n",
       "      <td>3087</td>\n",
       "      <td>both</td>\n",
       "      <td>11</td>\n",
       "      <td>fall</td>\n",
       "      <td>1</td>\n",
       "    </tr>\n",
       "  </tbody>\n",
       "</table>\n",
       "</div>"
      ],
      "text/plain": [
       "              date           ride_id  rideable_type           started_at  \\\n",
       "724906  2022-03-07  B2C5CA69CD9D070C  electric_bike  2022-03-07 19:22:45   \n",
       "673888  2022-06-16  18E81D7488D72F1A   classic_bike  2022-06-16 18:46:27   \n",
       "164452  2022-09-25  AF38D881323A4216   classic_bike  2022-09-25 15:27:16   \n",
       "417222  2022-05-12  EF580FFE11488B54  electric_bike  2022-05-12 15:23:18   \n",
       "543384  2022-11-05  60A00C040CFE7632   classic_bike  2022-11-05 14:40:46   \n",
       "\n",
       "                   ended_at   start_station_name start_station_id  \\\n",
       "724906  2022-03-07 19:33:44       1 Ave & E 6 St          5626.15   \n",
       "673888  2022-06-16 18:53:45  St Marks Pl & 1 Ave          5626.13   \n",
       "164452  2022-09-25 15:30:04   Broadway & W 61 St          7014.12   \n",
       "417222  2022-05-12 15:35:14   W 95 St & Broadway          7541.01   \n",
       "543384  2022-11-05 15:07:53   W 84 St & Broadway          7409.08   \n",
       "\n",
       "                        end_station_name end_station_id  start_lat  start_lng  \\\n",
       "724906                   E 44 St & 2 Ave        6422.09  40.726331 -73.986169   \n",
       "673888           Mercer St & Bleecker St        5679.05  40.727791 -73.985649   \n",
       "164452                Broadway & W 61 St        7014.12  40.770030 -73.981968   \n",
       "417222  W 64 St & Thelonious Monk Circle        7123.04  40.793770 -73.971888   \n",
       "543384             E 53 St & Madison Ave        6659.03  40.786795 -73.977112   \n",
       "\n",
       "          end_lat    end_lng member_casual  avgTemp  bike_rides_daily _merge  \\\n",
       "724906  40.751184 -73.971387        member     18.2              1740   both   \n",
       "673888  40.727064 -73.996621        member     20.3              2601   both   \n",
       "164452  40.770030 -73.981968        casual     19.2              2186   both   \n",
       "417222  40.775160 -73.989187        member     17.1              2855   both   \n",
       "543384  40.759711 -73.974023        member     19.4              3087   both   \n",
       "\n",
       "        month  season  value  \n",
       "724906      3  winter      1  \n",
       "673888      6  summer      1  \n",
       "164452      9  summer      1  \n",
       "417222      5  spring      1  \n",
       "543384     11    fall      1  "
      ]
     },
     "execution_count": 4,
     "metadata": {},
     "output_type": "execute_result"
    }
   ],
   "source": [
    "sample_df.head()"
   ]
  },
  {
   "cell_type": "code",
   "execution_count": 5,
   "id": "27803bcb-7817-4500-942a-abc8579588e3",
   "metadata": {
    "tags": []
   },
   "outputs": [
    {
     "data": {
      "text/plain": [
       "Index(['date', 'ride_id', 'rideable_type', 'started_at', 'ended_at',\n",
       "       'start_station_name', 'start_station_id', 'end_station_name',\n",
       "       'end_station_id', 'start_lat', 'start_lng', 'end_lat', 'end_lng',\n",
       "       'member_casual', 'avgTemp', 'bike_rides_daily', '_merge', 'month',\n",
       "       'season', 'value'],\n",
       "      dtype='object')"
      ]
     },
     "execution_count": 5,
     "metadata": {},
     "output_type": "execute_result"
    }
   ],
   "source": [
    "sample_df.columns"
   ]
  },
  {
   "cell_type": "code",
   "execution_count": 6,
   "id": "7b60f626-f37b-43c5-aed0-ee0b1feb6dab",
   "metadata": {
    "tags": []
   },
   "outputs": [
    {
     "data": {
      "text/plain": [
       "(76792, 20)"
      ]
     },
     "execution_count": 6,
     "metadata": {},
     "output_type": "execute_result"
    }
   ],
   "source": [
    "sample_df.shape"
   ]
  },
  {
   "cell_type": "code",
   "execution_count": 7,
   "id": "b1a19d98-8ed9-4481-b43c-d856d66b3f90",
   "metadata": {
    "tags": []
   },
   "outputs": [],
   "source": [
    "sample_df = sample_df.drop(columns=['ride_id', 'started_at', 'ended_at', 'rideable_type', 'start_station_id', 'end_station_id', 'member_casual', '_merge'])"
   ]
  },
  {
   "cell_type": "code",
   "execution_count": 8,
   "id": "022671ec-e53b-4400-b8b2-ac1e3f1ccae4",
   "metadata": {
    "tags": []
   },
   "outputs": [
    {
     "data": {
      "text/html": [
       "<div>\n",
       "<style scoped>\n",
       "    .dataframe tbody tr th:only-of-type {\n",
       "        vertical-align: middle;\n",
       "    }\n",
       "\n",
       "    .dataframe tbody tr th {\n",
       "        vertical-align: top;\n",
       "    }\n",
       "\n",
       "    .dataframe thead th {\n",
       "        text-align: right;\n",
       "    }\n",
       "</style>\n",
       "<table border=\"1\" class=\"dataframe\">\n",
       "  <thead>\n",
       "    <tr style=\"text-align: right;\">\n",
       "      <th></th>\n",
       "      <th>date</th>\n",
       "      <th>start_station_name</th>\n",
       "      <th>end_station_name</th>\n",
       "      <th>start_lat</th>\n",
       "      <th>start_lng</th>\n",
       "      <th>end_lat</th>\n",
       "      <th>end_lng</th>\n",
       "      <th>avgTemp</th>\n",
       "      <th>bike_rides_daily</th>\n",
       "      <th>month</th>\n",
       "      <th>season</th>\n",
       "      <th>value</th>\n",
       "    </tr>\n",
       "  </thead>\n",
       "  <tbody>\n",
       "    <tr>\n",
       "      <th>724906</th>\n",
       "      <td>2022-03-07</td>\n",
       "      <td>1 Ave &amp; E 6 St</td>\n",
       "      <td>E 44 St &amp; 2 Ave</td>\n",
       "      <td>40.726331</td>\n",
       "      <td>-73.986169</td>\n",
       "      <td>40.751184</td>\n",
       "      <td>-73.971387</td>\n",
       "      <td>18.2</td>\n",
       "      <td>1740</td>\n",
       "      <td>3</td>\n",
       "      <td>winter</td>\n",
       "      <td>1</td>\n",
       "    </tr>\n",
       "    <tr>\n",
       "      <th>673888</th>\n",
       "      <td>2022-06-16</td>\n",
       "      <td>St Marks Pl &amp; 1 Ave</td>\n",
       "      <td>Mercer St &amp; Bleecker St</td>\n",
       "      <td>40.727791</td>\n",
       "      <td>-73.985649</td>\n",
       "      <td>40.727064</td>\n",
       "      <td>-73.996621</td>\n",
       "      <td>20.3</td>\n",
       "      <td>2601</td>\n",
       "      <td>6</td>\n",
       "      <td>summer</td>\n",
       "      <td>1</td>\n",
       "    </tr>\n",
       "    <tr>\n",
       "      <th>164452</th>\n",
       "      <td>2022-09-25</td>\n",
       "      <td>Broadway &amp; W 61 St</td>\n",
       "      <td>Broadway &amp; W 61 St</td>\n",
       "      <td>40.770030</td>\n",
       "      <td>-73.981968</td>\n",
       "      <td>40.770030</td>\n",
       "      <td>-73.981968</td>\n",
       "      <td>19.2</td>\n",
       "      <td>2186</td>\n",
       "      <td>9</td>\n",
       "      <td>summer</td>\n",
       "      <td>1</td>\n",
       "    </tr>\n",
       "    <tr>\n",
       "      <th>417222</th>\n",
       "      <td>2022-05-12</td>\n",
       "      <td>W 95 St &amp; Broadway</td>\n",
       "      <td>W 64 St &amp; Thelonious Monk Circle</td>\n",
       "      <td>40.793770</td>\n",
       "      <td>-73.971888</td>\n",
       "      <td>40.775160</td>\n",
       "      <td>-73.989187</td>\n",
       "      <td>17.1</td>\n",
       "      <td>2855</td>\n",
       "      <td>5</td>\n",
       "      <td>spring</td>\n",
       "      <td>1</td>\n",
       "    </tr>\n",
       "    <tr>\n",
       "      <th>543384</th>\n",
       "      <td>2022-11-05</td>\n",
       "      <td>W 84 St &amp; Broadway</td>\n",
       "      <td>E 53 St &amp; Madison Ave</td>\n",
       "      <td>40.786795</td>\n",
       "      <td>-73.977112</td>\n",
       "      <td>40.759711</td>\n",
       "      <td>-73.974023</td>\n",
       "      <td>19.4</td>\n",
       "      <td>3087</td>\n",
       "      <td>11</td>\n",
       "      <td>fall</td>\n",
       "      <td>1</td>\n",
       "    </tr>\n",
       "  </tbody>\n",
       "</table>\n",
       "</div>"
      ],
      "text/plain": [
       "              date   start_station_name                  end_station_name  \\\n",
       "724906  2022-03-07       1 Ave & E 6 St                   E 44 St & 2 Ave   \n",
       "673888  2022-06-16  St Marks Pl & 1 Ave           Mercer St & Bleecker St   \n",
       "164452  2022-09-25   Broadway & W 61 St                Broadway & W 61 St   \n",
       "417222  2022-05-12   W 95 St & Broadway  W 64 St & Thelonious Monk Circle   \n",
       "543384  2022-11-05   W 84 St & Broadway             E 53 St & Madison Ave   \n",
       "\n",
       "        start_lat  start_lng    end_lat    end_lng  avgTemp  bike_rides_daily  \\\n",
       "724906  40.726331 -73.986169  40.751184 -73.971387     18.2              1740   \n",
       "673888  40.727791 -73.985649  40.727064 -73.996621     20.3              2601   \n",
       "164452  40.770030 -73.981968  40.770030 -73.981968     19.2              2186   \n",
       "417222  40.793770 -73.971888  40.775160 -73.989187     17.1              2855   \n",
       "543384  40.786795 -73.977112  40.759711 -73.974023     19.4              3087   \n",
       "\n",
       "        month  season  value  \n",
       "724906      3  winter      1  \n",
       "673888      6  summer      1  \n",
       "164452      9  summer      1  \n",
       "417222      5  spring      1  \n",
       "543384     11    fall      1  "
      ]
     },
     "execution_count": 8,
     "metadata": {},
     "output_type": "execute_result"
    }
   ],
   "source": [
    "sample_df.head()"
   ]
  },
  {
   "cell_type": "markdown",
   "id": "2e82e100-f6d5-498a-b7b0-4131bb633ced",
   "metadata": {},
   "source": [
    "##### 4. Create weekly dataset to use"
   ]
  },
  {
   "cell_type": "code",
   "execution_count": 9,
   "id": "8503bb34-2397-4107-b7d7-e2aa28379707",
   "metadata": {},
   "outputs": [],
   "source": [
    "# Convert 'date' column to datetime format if it's not already in datetime format\n",
    "df['date'] = pd.to_datetime(df['date'])"
   ]
  },
  {
   "cell_type": "code",
   "execution_count": 10,
   "id": "8b2d39ca-836a-4e72-9804-3c56502408d4",
   "metadata": {
    "tags": []
   },
   "outputs": [],
   "source": [
    "# Set 'date' column as the index if it's not already\n",
    "df.set_index('date', inplace=True)"
   ]
  },
  {
   "cell_type": "code",
   "execution_count": 11,
   "id": "86895acf-ce63-48e5-9d47-9af88f801947",
   "metadata": {
    "collapsed": true,
    "jupyter": {
     "outputs_hidden": true
    },
    "tags": []
   },
   "outputs": [
    {
     "name": "stderr",
     "output_type": "stream",
     "text": [
      "C:\\Users\\repla\\AppData\\Local\\Temp\\ipykernel_26208\\1043316687.py:2: FutureWarning: The default value of numeric_only in DataFrameGroupBy.mean is deprecated. In a future version, numeric_only will default to False. Either specify numeric_only or select only columns which should be valid for the function.\n",
      "  df_weekly = df.resample('W').mean()\n"
     ]
    }
   ],
   "source": [
    "# Aggregate data on a weekly basis\n",
    "df_weekly = df.resample('W').mean()"
   ]
  },
  {
   "cell_type": "code",
   "execution_count": 12,
   "id": "185c44fc-aaa3-42a3-bae5-e818c08e72f5",
   "metadata": {
    "tags": []
   },
   "outputs": [],
   "source": [
    "# Reset index to make 'date' a column again\n",
    "df_weekly.reset_index(inplace=True)"
   ]
  },
  {
   "cell_type": "code",
   "execution_count": 13,
   "id": "e73f3a52-3a84-4f14-a37f-8bd6487ff133",
   "metadata": {
    "tags": []
   },
   "outputs": [
    {
     "data": {
      "text/html": [
       "<div>\n",
       "<style scoped>\n",
       "    .dataframe tbody tr th:only-of-type {\n",
       "        vertical-align: middle;\n",
       "    }\n",
       "\n",
       "    .dataframe tbody tr th {\n",
       "        vertical-align: top;\n",
       "    }\n",
       "\n",
       "    .dataframe thead th {\n",
       "        text-align: right;\n",
       "    }\n",
       "</style>\n",
       "<table border=\"1\" class=\"dataframe\">\n",
       "  <thead>\n",
       "    <tr style=\"text-align: right;\">\n",
       "      <th></th>\n",
       "      <th>date</th>\n",
       "      <th>start_lat</th>\n",
       "      <th>start_lng</th>\n",
       "      <th>end_lat</th>\n",
       "      <th>end_lng</th>\n",
       "      <th>avgTemp</th>\n",
       "      <th>bike_rides_daily</th>\n",
       "      <th>month</th>\n",
       "      <th>value</th>\n",
       "    </tr>\n",
       "  </thead>\n",
       "  <tbody>\n",
       "    <tr>\n",
       "      <th>0</th>\n",
       "      <td>2022-01-02</td>\n",
       "      <td>40.739072</td>\n",
       "      <td>-73.976703</td>\n",
       "      <td>40.738178</td>\n",
       "      <td>-73.977254</td>\n",
       "      <td>11.459110</td>\n",
       "      <td>957.684948</td>\n",
       "      <td>1.0</td>\n",
       "      <td>1.0</td>\n",
       "    </tr>\n",
       "    <tr>\n",
       "      <th>1</th>\n",
       "      <td>2022-01-09</td>\n",
       "      <td>40.740131</td>\n",
       "      <td>-73.977277</td>\n",
       "      <td>40.740077</td>\n",
       "      <td>-73.977529</td>\n",
       "      <td>1.204907</td>\n",
       "      <td>882.558565</td>\n",
       "      <td>1.0</td>\n",
       "      <td>1.0</td>\n",
       "    </tr>\n",
       "    <tr>\n",
       "      <th>2</th>\n",
       "      <td>2022-01-16</td>\n",
       "      <td>40.739990</td>\n",
       "      <td>-73.977040</td>\n",
       "      <td>40.739621</td>\n",
       "      <td>-73.977346</td>\n",
       "      <td>-0.338646</td>\n",
       "      <td>992.209215</td>\n",
       "      <td>1.0</td>\n",
       "      <td>1.0</td>\n",
       "    </tr>\n",
       "    <tr>\n",
       "      <th>3</th>\n",
       "      <td>2022-01-23</td>\n",
       "      <td>40.740138</td>\n",
       "      <td>-73.977337</td>\n",
       "      <td>40.740020</td>\n",
       "      <td>-73.977372</td>\n",
       "      <td>0.398334</td>\n",
       "      <td>1003.829268</td>\n",
       "      <td>1.0</td>\n",
       "      <td>1.0</td>\n",
       "    </tr>\n",
       "    <tr>\n",
       "      <th>4</th>\n",
       "      <td>2022-01-30</td>\n",
       "      <td>40.739708</td>\n",
       "      <td>-73.978128</td>\n",
       "      <td>40.739181</td>\n",
       "      <td>-73.978784</td>\n",
       "      <td>-0.837498</td>\n",
       "      <td>1054.327889</td>\n",
       "      <td>1.0</td>\n",
       "      <td>1.0</td>\n",
       "    </tr>\n",
       "  </tbody>\n",
       "</table>\n",
       "</div>"
      ],
      "text/plain": [
       "        date  start_lat  start_lng    end_lat    end_lng    avgTemp  \\\n",
       "0 2022-01-02  40.739072 -73.976703  40.738178 -73.977254  11.459110   \n",
       "1 2022-01-09  40.740131 -73.977277  40.740077 -73.977529   1.204907   \n",
       "2 2022-01-16  40.739990 -73.977040  40.739621 -73.977346  -0.338646   \n",
       "3 2022-01-23  40.740138 -73.977337  40.740020 -73.977372   0.398334   \n",
       "4 2022-01-30  40.739708 -73.978128  40.739181 -73.978784  -0.837498   \n",
       "\n",
       "   bike_rides_daily  month  value  \n",
       "0        957.684948    1.0    1.0  \n",
       "1        882.558565    1.0    1.0  \n",
       "2        992.209215    1.0    1.0  \n",
       "3       1003.829268    1.0    1.0  \n",
       "4       1054.327889    1.0    1.0  "
      ]
     },
     "execution_count": 13,
     "metadata": {},
     "output_type": "execute_result"
    }
   ],
   "source": [
    "# Use df_weekly for plotting the aggregated data\n",
    "\n",
    "df_weekly.head()"
   ]
  },
  {
   "cell_type": "code",
   "execution_count": 14,
   "id": "71199b29-2013-4c94-88ec-c171736be134",
   "metadata": {
    "tags": []
   },
   "outputs": [
    {
     "data": {
      "text/plain": [
       "(53, 9)"
      ]
     },
     "execution_count": 14,
     "metadata": {},
     "output_type": "execute_result"
    }
   ],
   "source": [
    "df_weekly.shape"
   ]
  },
  {
   "cell_type": "code",
   "execution_count": 15,
   "id": "e2218f9b-23c9-4f7e-91d0-a4e8c85c7ece",
   "metadata": {
    "tags": []
   },
   "outputs": [],
   "source": [
    "# Rename the column 'bike_rides_daily' to 'bike_rides_weekly'\n",
    "df_weekly.rename(columns={'bike_rides_daily': 'bike_rides_weekly'}, inplace=True)"
   ]
  },
  {
   "cell_type": "code",
   "execution_count": 16,
   "id": "5fea6a9f-f72f-4372-a66d-24e328a61187",
   "metadata": {
    "tags": []
   },
   "outputs": [
    {
     "data": {
      "text/plain": [
       "Index(['date', 'start_lat', 'start_lng', 'end_lat', 'end_lng', 'avgTemp',\n",
       "       'bike_rides_weekly', 'month', 'value'],\n",
       "      dtype='object')"
      ]
     },
     "execution_count": 16,
     "metadata": {},
     "output_type": "execute_result"
    }
   ],
   "source": [
    "df_weekly.columns"
   ]
  },
  {
   "cell_type": "code",
   "execution_count": 17,
   "id": "855abbc9-f7fb-4163-9bb7-7d577a8454da",
   "metadata": {
    "tags": []
   },
   "outputs": [],
   "source": [
    "df_weekly.to_csv('newyork_data_weekly.csv')"
   ]
  },
  {
   "cell_type": "code",
   "execution_count": null,
   "id": "a78b2088-6b40-4959-833d-acd6b77cab6d",
   "metadata": {},
   "outputs": [],
   "source": []
  }
 ],
 "metadata": {
  "kernelspec": {
   "display_name": "Python [conda env:Citi-Bike]",
   "language": "python",
   "name": "conda-env-Citi-Bike-py"
  },
  "language_info": {
   "codemirror_mode": {
    "name": "ipython",
    "version": 3
   },
   "file_extension": ".py",
   "mimetype": "text/x-python",
   "name": "python",
   "nbconvert_exporter": "python",
   "pygments_lexer": "ipython3",
   "version": "3.11.8"
  }
 },
 "nbformat": 4,
 "nbformat_minor": 5
}
